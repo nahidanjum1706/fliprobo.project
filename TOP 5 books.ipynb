{
 "cells": [
  {
   "cell_type": "code",
   "execution_count": 1,
   "metadata": {},
   "outputs": [],
   "source": [
    "from bs4 import BeautifulSoup\n",
    "import requests\n",
    "import pandas as pd"
   ]
  },
  {
   "cell_type": "code",
   "execution_count": 2,
   "metadata": {},
   "outputs": [
    {
     "data": {
      "text/plain": [
       "<Response [200]>"
      ]
     },
     "execution_count": 2,
     "metadata": {},
     "output_type": "execute_result"
    }
   ],
   "source": [
    "page=requests.get(\"https://bookpage.com/reviews\")\n",
    "page"
   ]
  },
  {
   "cell_type": "code",
   "execution_count": 3,
   "metadata": {},
   "outputs": [],
   "source": [
    "Soup=BeautifulSoup(page.content, 'html.parser')"
   ]
  },
  {
   "cell_type": "code",
   "execution_count": 4,
   "metadata": {},
   "outputs": [],
   "source": [
    "book_name=[]\n",
    "author_name=[]\n",
    "genre=[]\n",
    "book_review=[]"
   ]
  },
  {
   "cell_type": "code",
   "execution_count": 5,
   "metadata": {},
   "outputs": [
    {
     "data": {
      "text/plain": [
       "[<h4 class=\"italic\">\n",
       " <a href=\"/reviews/25880-cherie-jones-how-one-armed-sister-sweeps-her-house-fiction\">How the One-Armed Sister Sweeps Her House</a>\n",
       " </h4>,\n",
       " <h4 class=\"italic\">\n",
       " <a href=\"/reviews/25140-kate-russo-super-host-fiction\">Super Host</a>\n",
       " </h4>,\n",
       " <h4 class=\"italic\">\n",
       " <a href=\"/reviews/25877-janet-skeslien-charles-paris-library-fiction\">The Paris Library</a>\n",
       " </h4>,\n",
       " <h4 class=\"italic\">\n",
       " <a href=\"/reviews/25895-vikki-vansickle-anonymouse-childrens\">Anonymouse</a>\n",
       " </h4>,\n",
       " <h4 class=\"italic\">\n",
       " <a href=\"/reviews/25857-philippe-sands-ratline-biography\">The Ratline</a>\n",
       " </h4>]"
      ]
     },
     "execution_count": 5,
     "metadata": {},
     "output_type": "execute_result"
    }
   ],
   "source": [
    "titles=Soup.find_all('h4', class_ ='italic')\n",
    "titles[0:5]"
   ]
  },
  {
   "cell_type": "code",
   "execution_count": 6,
   "metadata": {},
   "outputs": [
    {
     "name": "stdout",
     "output_type": "stream",
     "text": [
      "\n",
      "How the One-Armed Sister Sweeps Her House\n",
      "\n",
      "\n",
      "Super Host\n",
      "\n",
      "\n",
      "The Paris Library\n",
      "\n",
      "\n",
      "Anonymouse\n",
      "\n",
      "\n",
      "The Ratline\n",
      "\n",
      "\n",
      "The Bad Muslim Discount\n",
      "\n",
      "\n",
      "Of a Feather\n",
      "\n",
      "\n",
      "Four Lost Cities\n",
      "\n",
      "\n",
      " ★ Mike Nichols\n",
      "\n",
      "\n",
      " ★ When Harry Met Minnie\n",
      "\n"
     ]
    }
   ],
   "source": [
    "for i in titles:\n",
    "    ft=i.get_text()\n",
    "    print(ft)\n",
    "    book_name.append(ft)"
   ]
  },
  {
   "cell_type": "code",
   "execution_count": 7,
   "metadata": {},
   "outputs": [
    {
     "data": {
      "text/plain": [
       "[<p class=\"sans bold\">\n",
       " Cherie Jones\n",
       " </p>,\n",
       " <p class=\"sans bold\">\n",
       " Kate Russo\n",
       " </p>,\n",
       " <p class=\"sans bold\">\n",
       " Janet Skeslien Charles\n",
       " </p>,\n",
       " <p class=\"sans bold\">\n",
       " Vikki VanSickle, Anna Pirolli\n",
       " </p>,\n",
       " <p class=\"sans bold\">\n",
       " Philippe Sands\n",
       " </p>]"
      ]
     },
     "execution_count": 7,
     "metadata": {},
     "output_type": "execute_result"
    }
   ],
   "source": [
    "author=Soup.find_all('p', class_ ='sans bold')\n",
    "author[0:5]"
   ]
  },
  {
   "cell_type": "code",
   "execution_count": 8,
   "metadata": {},
   "outputs": [
    {
     "name": "stdout",
     "output_type": "stream",
     "text": [
      "\n",
      "Cherie Jones\n",
      "\n",
      "\n",
      "Kate Russo\n",
      "\n",
      "\n",
      "Janet Skeslien Charles\n",
      "\n",
      "\n",
      "Vikki VanSickle, Anna Pirolli\n",
      "\n",
      "\n",
      "Philippe Sands\n",
      "\n",
      "\n",
      "Syed M. Masood\n",
      "\n",
      "\n",
      "Dayna Lorentz\n",
      "\n",
      "\n",
      "Annalee Newitz\n",
      "\n",
      "\n",
      "Mark Harris\n",
      "\n",
      "\n",
      "Martha Teichner\n",
      "\n"
     ]
    }
   ],
   "source": [
    "for i in author:\n",
    "    ft=i.get_text()\n",
    "    print(ft)\n",
    "    author_name.append(ft)"
   ]
  },
  {
   "cell_type": "code",
   "execution_count": 9,
   "metadata": {},
   "outputs": [
    {
     "data": {
      "text/plain": [
       "[<p class=\"genre-links hidden-phone\">\n",
       " <a href=\"/search?book_genre=fiction\">Fiction</a>\n",
       "  / \n",
       " <a href=\"/search?book_genre=literary_fiction\">Literary Fiction</a>\n",
       " </p>,\n",
       " <p class=\"genre-links hidden-phone\">\n",
       " <a href=\"/search?book_genre=fiction\">Fiction</a>\n",
       "  / \n",
       " <a href=\"/search?book_genre=family_drama\">Family Drama</a>\n",
       " </p>,\n",
       " <p class=\"genre-links hidden-phone\">\n",
       " <a href=\"/search?book_genre=fiction\">Fiction</a>\n",
       "  / \n",
       " <a href=\"/search?book_genre=historical_fiction\">Historical Fiction</a>\n",
       " </p>,\n",
       " <p class=\"genre-links hidden-phone\">\n",
       " <a href=\"/search?book_genre=children_s\">Children's</a>\n",
       "  / \n",
       " <a href=\"/search?book_genre=children_s_picture_book\">Children's Picture Book</a>\n",
       " </p>,\n",
       " <p class=\"genre-links hidden-phone\">\n",
       " <a href=\"/search?book_genre=nonfiction\">Nonfiction</a>\n",
       "  / \n",
       " <a href=\"/search?book_genre=biography\">Biography</a>\n",
       "  / \n",
       " <a href=\"/search?book_genre=european_history\">European History</a>\n",
       " </p>]"
      ]
     },
     "execution_count": 9,
     "metadata": {},
     "output_type": "execute_result"
    }
   ],
   "source": [
    "genr=Soup.find_all('p', class_ =\"genre-links hidden-phone\")\n",
    "genr[0:5]"
   ]
  },
  {
   "cell_type": "code",
   "execution_count": 10,
   "metadata": {},
   "outputs": [
    {
     "name": "stdout",
     "output_type": "stream",
     "text": [
      "\n",
      "Fiction\n",
      " / \n",
      "Literary Fiction\n",
      " / \n",
      "\n",
      "Fiction\n",
      " / \n",
      "Family Drama\n",
      " / \n",
      "\n",
      "Fiction\n",
      " / \n",
      "Historical Fiction\n",
      " / \n",
      "\n",
      "Children's\n",
      " / \n",
      "Children's Picture Book\n",
      " / \n",
      "\n",
      "Nonfiction\n",
      " / \n",
      "Biography\n",
      " / \n",
      "European History\n",
      " / \n",
      "\n",
      "Fiction\n",
      " / \n",
      "Coming of Age\n",
      " / \n",
      "\n",
      "Children's\n",
      " / \n",
      "Middle Grade\n",
      " / \n",
      "\n",
      "Nonfiction\n",
      " / \n",
      "History\n",
      " / \n",
      "Science\n",
      " / \n",
      "\n",
      "Nonfiction\n",
      " / \n",
      "Biography\n",
      " / \n",
      "Arts & Culture\n",
      " / \n",
      "\n",
      "Nonfiction\n",
      " / \n",
      "Biography & Memoir\n",
      " / \n",
      "Memoir\n",
      " / \n"
     ]
    }
   ],
   "source": [
    "for i in genr:\n",
    "    for j in i.find_all('a'):\n",
    "        ft= i.get_text()+\" / \"\n",
    "    print(ft)\n",
    "    genre.append(ft)"
   ]
  },
  {
   "cell_type": "code",
   "execution_count": 11,
   "metadata": {},
   "outputs": [
    {
     "data": {
      "text/plain": [
       "[<p class=\"excerpt\">\n",
       " <p>In her engrossing and darkly lyrical debut novel, <strong>How the One-Armed Sister Sweeps Her House</strong>, Bajan author Cherie Jones unspools a discomfiting allegory of race, class and intergenerational trauma in a far from idyllic fictional Caribbean community.</p>\n",
       " </p>,\n",
       " <p class=\"excerpt\">\n",
       " In <b>Super Host</b>, the first novel from Kate Russo (daughter of Richard Russo), Bennett has been taking it a little bit too easy.\n",
       " </p>,\n",
       " <p class=\"excerpt\">\n",
       " <p>One might wonder if anything new can be written about Paris, but Janet Skeslien Charles reminds us of the city’s evergreen appeal and unbounded potential for stories with <strong>The Paris Library</strong>, which tells of the very real, very beloved American Library in Paris and the role it played during...</p>\n",
       " </p>,\n",
       " <p class=\"excerpt\">\n",
       " <p>You might think that, if a mouse were to become a graffiti artist, they would use creamy yellow paint in tribute to delicious cheese. But the prolific and eponymous(e) spray-painter in <strong>Anonymouse</strong> favors a bright berry pink that pops against the brown and beige city buildings and streets where...</p>\n",
       " </p>,\n",
       " <p class=\"excerpt\">\n",
       " <p>In <strong>The Ratline: The Exalted Life and Mysterious Death of a Nazi Fugitive</strong>, Philippe Sands asks a thorny question: Is a son’s love sufficient to redeem a monstrous father?</p>\n",
       " </p>]"
      ]
     },
     "execution_count": 11,
     "metadata": {},
     "output_type": "execute_result"
    }
   ],
   "source": [
    "rev=Soup.find_all('p', class_ =\"excerpt\")\n",
    "rev[0:5]"
   ]
  },
  {
   "cell_type": "code",
   "execution_count": 12,
   "metadata": {},
   "outputs": [
    {
     "name": "stdout",
     "output_type": "stream",
     "text": [
      "\n",
      "In her engrossing and darkly lyrical debut novel, How the One-Armed Sister Sweeps Her House, Bajan author Cherie Jones unspools a discomfiting allegory of race, class and intergenerational trauma in a far from idyllic fictional Caribbean community.\n",
      "\n",
      "\n",
      "In Super Host, the first novel from Kate Russo (daughter of Richard Russo), Bennett has been taking it a little bit too easy.\n",
      "\n",
      "\n",
      "One might wonder if anything new can be written about Paris, but Janet Skeslien Charles reminds us of the city’s evergreen appeal and unbounded potential for stories with The Paris Library, which tells of the very real, very beloved American Library in Paris and the role it played during...\n",
      "\n",
      "\n",
      "You might think that, if a mouse were to become a graffiti artist, they would use creamy yellow paint in tribute to delicious cheese. But the prolific and eponymous(e) spray-painter in Anonymouse favors a bright berry pink that pops against the brown and beige city buildings and streets where...\n",
      "\n",
      "\n",
      "In The Ratline: The Exalted Life and Mysterious Death of a Nazi Fugitive, Philippe Sands asks a thorny question: Is a son’s love sufficient to redeem a monstrous father?\n",
      "\n",
      "\n",
      "Syed M. Masood mixes humor with tragedy. When it works, it’s captivating. When it doesn’t, it can feel uneven and disjointed.\n",
      "\n",
      "\n",
      "Rufus the great horned owl is the self-declared “worst owl in the history of owldom.” Next to his fledgling sister, First, 6-month-old Rufus feels like a runt. An unsuccessful, can’t-hunt-to-save-his-life runt.\n",
      "\n",
      "\n",
      "As Annalee Newitz shows in the marvelous Four Lost Cities, an ancient city’s fate was determined by complex interactions of politics, the environment and human choices.\n",
      "\n",
      "\n",
      "Candid, colorful and chock-full of detail, Mike Nichols: A Life is the biography that Nichols well deserves.\n",
      "\n",
      "\n",
      "When Harry Met Minnie is often a heart-rending read—humans and animals suffer, die and grieve—but it’s also studded with wry wit and meaningful musings on friendship.\n",
      "\n"
     ]
    }
   ],
   "source": [
    "for i in rev:\n",
    "    ft=i.get_text()\n",
    "    print(ft)\n",
    "    book_review.append(ft)"
   ]
  },
  {
   "cell_type": "code",
   "execution_count": 13,
   "metadata": {},
   "outputs": [
    {
     "name": "stdout",
     "output_type": "stream",
     "text": [
      "10 10 10 10\n"
     ]
    }
   ],
   "source": [
    "print(len(book_name),len(author_name),len(genre),len(book_review))"
   ]
  },
  {
   "cell_type": "code",
   "execution_count": 14,
   "metadata": {},
   "outputs": [],
   "source": [
    "books=pd.DataFrame({})\n",
    "books['Book_Name']=book_name[0:5]\n",
    "books['Author_Name']=author_name[0:5]\n",
    "books['Genre']=genre[0:5]\n",
    "books['Book_Review']=book_review[0:5]"
   ]
  },
  {
   "cell_type": "code",
   "execution_count": 15,
   "metadata": {},
   "outputs": [
    {
     "data": {
      "text/html": [
       "<div>\n",
       "<style scoped>\n",
       "    .dataframe tbody tr th:only-of-type {\n",
       "        vertical-align: middle;\n",
       "    }\n",
       "\n",
       "    .dataframe tbody tr th {\n",
       "        vertical-align: top;\n",
       "    }\n",
       "\n",
       "    .dataframe thead th {\n",
       "        text-align: right;\n",
       "    }\n",
       "</style>\n",
       "<table border=\"1\" class=\"dataframe\">\n",
       "  <thead>\n",
       "    <tr style=\"text-align: right;\">\n",
       "      <th></th>\n",
       "      <th>Book_Name</th>\n",
       "      <th>Author_Name</th>\n",
       "      <th>Genre</th>\n",
       "      <th>Book_Review</th>\n",
       "    </tr>\n",
       "  </thead>\n",
       "  <tbody>\n",
       "    <tr>\n",
       "      <th>0</th>\n",
       "      <td>\\nHow the One-Armed Sister Sweeps Her House\\n</td>\n",
       "      <td>\\nCherie Jones\\n</td>\n",
       "      <td>\\nFiction\\n / \\nLiterary Fiction\\n /</td>\n",
       "      <td>\\nIn her engrossing and darkly lyrical debut n...</td>\n",
       "    </tr>\n",
       "    <tr>\n",
       "      <th>1</th>\n",
       "      <td>\\nSuper Host\\n</td>\n",
       "      <td>\\nKate Russo\\n</td>\n",
       "      <td>\\nFiction\\n / \\nFamily Drama\\n /</td>\n",
       "      <td>\\nIn Super Host, the first novel from Kate Rus...</td>\n",
       "    </tr>\n",
       "    <tr>\n",
       "      <th>2</th>\n",
       "      <td>\\nThe Paris Library\\n</td>\n",
       "      <td>\\nJanet Skeslien Charles\\n</td>\n",
       "      <td>\\nFiction\\n / \\nHistorical Fiction\\n /</td>\n",
       "      <td>\\nOne might wonder if anything new can be writ...</td>\n",
       "    </tr>\n",
       "    <tr>\n",
       "      <th>3</th>\n",
       "      <td>\\nAnonymouse\\n</td>\n",
       "      <td>\\nVikki VanSickle, Anna Pirolli\\n</td>\n",
       "      <td>\\nChildren's\\n / \\nChildren's Picture Book\\n /</td>\n",
       "      <td>\\nYou might think that, if a mouse were to bec...</td>\n",
       "    </tr>\n",
       "    <tr>\n",
       "      <th>4</th>\n",
       "      <td>\\nThe Ratline\\n</td>\n",
       "      <td>\\nPhilippe Sands\\n</td>\n",
       "      <td>\\nNonfiction\\n / \\nBiography\\n / \\nEuropean Hi...</td>\n",
       "      <td>\\nIn The Ratline: The Exalted Life and Mysteri...</td>\n",
       "    </tr>\n",
       "  </tbody>\n",
       "</table>\n",
       "</div>"
      ],
      "text/plain": [
       "                                       Book_Name  \\\n",
       "0  \\nHow the One-Armed Sister Sweeps Her House\\n   \n",
       "1                                 \\nSuper Host\\n   \n",
       "2                          \\nThe Paris Library\\n   \n",
       "3                                 \\nAnonymouse\\n   \n",
       "4                                \\nThe Ratline\\n   \n",
       "\n",
       "                         Author_Name  \\\n",
       "0                   \\nCherie Jones\\n   \n",
       "1                     \\nKate Russo\\n   \n",
       "2         \\nJanet Skeslien Charles\\n   \n",
       "3  \\nVikki VanSickle, Anna Pirolli\\n   \n",
       "4                 \\nPhilippe Sands\\n   \n",
       "\n",
       "                                               Genre  \\\n",
       "0              \\nFiction\\n / \\nLiterary Fiction\\n /    \n",
       "1                  \\nFiction\\n / \\nFamily Drama\\n /    \n",
       "2            \\nFiction\\n / \\nHistorical Fiction\\n /    \n",
       "3    \\nChildren's\\n / \\nChildren's Picture Book\\n /    \n",
       "4  \\nNonfiction\\n / \\nBiography\\n / \\nEuropean Hi...   \n",
       "\n",
       "                                         Book_Review  \n",
       "0  \\nIn her engrossing and darkly lyrical debut n...  \n",
       "1  \\nIn Super Host, the first novel from Kate Rus...  \n",
       "2  \\nOne might wonder if anything new can be writ...  \n",
       "3  \\nYou might think that, if a mouse were to bec...  \n",
       "4  \\nIn The Ratline: The Exalted Life and Mysteri...  "
      ]
     },
     "execution_count": 15,
     "metadata": {},
     "output_type": "execute_result"
    }
   ],
   "source": [
    "books"
   ]
  },
  {
   "cell_type": "code",
   "execution_count": null,
   "metadata": {},
   "outputs": [],
   "source": []
  },
  {
   "cell_type": "code",
   "execution_count": null,
   "metadata": {},
   "outputs": [],
   "source": []
  },
  {
   "cell_type": "code",
   "execution_count": null,
   "metadata": {},
   "outputs": [],
   "source": []
  }
 ],
 "metadata": {
  "kernelspec": {
   "display_name": "Python 3",
   "language": "python",
   "name": "python3"
  },
  "language_info": {
   "codemirror_mode": {
    "name": "ipython",
    "version": 3
   },
   "file_extension": ".py",
   "mimetype": "text/x-python",
   "name": "python",
   "nbconvert_exporter": "python",
   "pygments_lexer": "ipython3",
   "version": "3.8.3"
  }
 },
 "nbformat": 4,
 "nbformat_minor": 4
}
