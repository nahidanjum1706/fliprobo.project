{
 "cells": [
  {
   "cell_type": "code",
   "execution_count": 1,
   "metadata": {},
   "outputs": [],
   "source": [
    "from bs4 import BeautifulSoup\n",
    "import requests\n"
   ]
  },
  {
   "cell_type": "code",
   "execution_count": 2,
   "metadata": {},
   "outputs": [],
   "source": [
    "# https://forecast.weather.gov/MapClick.php?textField1=37.78&textField2=-122.42\n",
    "# period, description, temperature, description\n",
    "\n",
    "# latitudes and longitudes of San Francisco\n",
    "lat = '37.78'\n",
    "lng = '-122.42'"
   ]
  },
  {
   "cell_type": "code",
   "execution_count": 3,
   "metadata": {},
   "outputs": [],
   "source": [
    "headers = {\"User-Agent\":\"Mozilla/5.0 (Windows NT 10.0; Win64; x64; rv:66.0) Gecko/20100101 Firefox/66.0\", \"Accept-Encoding\":\"gzip, deflate\", \"Accept\":\"text/html,application/xhtml+xml,application/xml;q=0.9,*/*;q=0.8\", \"DNT\":\"1\",\"Connection\":\"close\", \"Upgrade-Insecure-Requests\":\"1\"}\n"
   ]
  },
  {
   "cell_type": "code",
   "execution_count": 4,
   "metadata": {},
   "outputs": [],
   "source": [
    "r = requests.get('https://forecast.weather.gov/MapClick.php?textField1=' + lat + '&textField2=' + lng, headers=headers)#, proxies=proxies)"
   ]
  },
  {
   "cell_type": "code",
   "execution_count": 5,
   "metadata": {},
   "outputs": [
    {
     "data": {
      "text/plain": [
       "<Response [200]>"
      ]
     },
     "execution_count": 5,
     "metadata": {},
     "output_type": "execute_result"
    }
   ],
   "source": [
    "r"
   ]
  },
  {
   "cell_type": "code",
   "execution_count": 6,
   "metadata": {},
   "outputs": [],
   "source": [
    "content = r.content"
   ]
  },
  {
   "cell_type": "code",
   "execution_count": 7,
   "metadata": {},
   "outputs": [],
   "source": [
    "soup = BeautifulSoup(content, 'html.parser')\n"
   ]
  },
  {
   "cell_type": "code",
   "execution_count": 8,
   "metadata": {},
   "outputs": [],
   "source": [
    "forecasts_descriptions = []\n",
    "forecasts_temperatures = []\n"
   ]
  },
  {
   "cell_type": "code",
   "execution_count": 9,
   "metadata": {},
   "outputs": [],
   "source": [
    "for forecast in soup.findAll('div', attrs={'class': 'row-forecast'}):\n",
    "    period = forecast.find('div', attrs={'class': 'forecast-label'})\n",
    "    desc = forecast.find('div', attrs={'class': 'forecast-text'})\n",
    "\n",
    "    forecasts_descriptions.append({\n",
    "        'period': period.text,\n",
    "        'description': desc.text\n",
    "    })\n"
   ]
  },
  {
   "cell_type": "code",
   "execution_count": 10,
   "metadata": {},
   "outputs": [],
   "source": [
    "for forecast in soup.findAll('li', attrs={'class': 'forecast-tombstone'}):\n",
    "    period = forecast.find('p', attrs={'class': 'period-name'})\n",
    "    desc = forecast.find('p', attrs={'class': 'short-desc'})\n",
    "    temp = forecast.find('p', attrs={'class': 'temp'})\n",
    "\n",
    "    forecasts_temperatures.append({\n",
    "        'period': period.text,\n",
    "        'description': desc.text,\n",
    "        'temperature': temp.text\n",
    "    })"
   ]
  },
  {
   "cell_type": "code",
   "execution_count": 11,
   "metadata": {},
   "outputs": [
    {
     "name": "stdout",
     "output_type": "stream",
     "text": [
      "{'period': 'Today', 'description': 'Sunny, with a high near 63. Calm wind becoming west 5 to 7 mph in the afternoon. '}\n",
      "{'period': 'Tonight', 'description': 'Mostly clear, with a low around 44. West wind around 6 mph becoming calm  in the evening. '}\n",
      "{'period': 'Saturday', 'description': 'Sunny, with a high near 63. South southeast wind around 5 mph becoming light and variable. '}\n",
      "{'period': 'Saturday Night', 'description': 'Mostly clear, with a low around 45. West southwest wind 3 to 6 mph. '}\n",
      "{'period': 'Sunday', 'description': 'Sunny, with a high near 62. Calm wind becoming west 5 to 7 mph in the afternoon. '}\n",
      "{'period': 'Sunday Night', 'description': 'Patchy fog after 5am.  Otherwise, mostly cloudy, with a low around 46.'}\n",
      "{'period': 'Monday', 'description': 'Patchy fog before 8am.  Otherwise, mostly cloudy, with a high near 60.'}\n",
      "{'period': 'Monday Night', 'description': 'Mostly cloudy, with a low around 47.'}\n",
      "{'period': 'Tuesday', 'description': 'Partly sunny, with a high near 59.'}\n",
      "{'period': 'Tuesday Night', 'description': 'Mostly cloudy, with a low around 47.'}\n",
      "{'period': 'Wednesday', 'description': 'Mostly sunny, with a high near 61.'}\n",
      "{'period': 'Wednesday Night', 'description': 'Mostly clear, with a low around 47.'}\n",
      "{'period': 'Thursday', 'description': 'Mostly sunny, with a high near 61.'}\n",
      "{'period': 'Today', 'description': 'Sunny', 'temperature': 'High: 63 °F'}\n",
      "{'period': 'Tonight', 'description': 'Mostly Clear', 'temperature': 'Low: 44 °F'}\n",
      "{'period': 'Saturday', 'description': 'Sunny', 'temperature': 'High: 63 °F'}\n",
      "{'period': 'SaturdayNight', 'description': 'Mostly Clear', 'temperature': 'Low: 45 °F'}\n",
      "{'period': 'Sunday', 'description': 'Sunny', 'temperature': 'High: 62 °F'}\n",
      "{'period': 'SundayNight', 'description': 'Partly Cloudythen PatchyFog', 'temperature': 'Low: 46 °F'}\n",
      "{'period': 'Monday', 'description': 'Patchy Fogthen MostlyCloudy', 'temperature': 'High: 60 °F'}\n",
      "{'period': 'MondayNight', 'description': 'Mostly Cloudy', 'temperature': 'Low: 47 °F'}\n",
      "{'period': 'Tuesday', 'description': 'Partly Sunny', 'temperature': 'High: 59 °F'}\n"
     ]
    }
   ],
   "source": [
    "for i in forecasts_descriptions:\n",
    "    print (i)\n",
    "\n",
    "for t in forecasts_temperatures:\n",
    "    print (t)"
   ]
  },
  {
   "cell_type": "code",
   "execution_count": null,
   "metadata": {},
   "outputs": [],
   "source": [
    "import pandas as pd\n"
   ]
  }
 ],
 "metadata": {
  "kernelspec": {
   "display_name": "Python 3",
   "language": "python",
   "name": "python3"
  },
  "language_info": {
   "codemirror_mode": {
    "name": "ipython",
    "version": 3
   },
   "file_extension": ".py",
   "mimetype": "text/x-python",
   "name": "python",
   "nbconvert_exporter": "python",
   "pygments_lexer": "ipython3",
   "version": "3.8.3"
  }
 },
 "nbformat": 4,
 "nbformat_minor": 4
}
